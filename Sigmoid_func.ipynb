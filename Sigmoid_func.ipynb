{
  "nbformat": 4,
  "nbformat_minor": 0,
  "metadata": {
    "colab": {
      "name": "Sigmoid_func.ipynb",
      "provenance": [],
      "collapsed_sections": [],
      "include_colab_link": true
    },
    "kernelspec": {
      "name": "python3",
      "display_name": "Python 3"
    }
  },
  "cells": [
    {
      "cell_type": "markdown",
      "metadata": {
        "id": "view-in-github",
        "colab_type": "text"
      },
      "source": [
        "<a href=\"https://colab.research.google.com/github/OrJaku/Neural_Network/blob/master/Sigmoid_func.ipynb\" target=\"_parent\"><img src=\"https://colab.research.google.com/assets/colab-badge.svg\" alt=\"Open In Colab\"/></a>"
      ]
    },
    {
      "cell_type": "code",
      "metadata": {
        "id": "0PFXeC3M6Qo1",
        "colab_type": "code",
        "colab": {}
      },
      "source": [
        ""
      ],
      "execution_count": 0,
      "outputs": []
    },
    {
      "cell_type": "markdown",
      "metadata": {
        "id": "hFVFZEf26TZ6",
        "colab_type": "text"
      },
      "source": [
        "## Sigmoid fuction\n",
        "#### $f(x) = \\frac{1}{1+e^{-x}}$"
      ]
    },
    {
      "cell_type": "code",
      "metadata": {
        "id": "1Amm2NO3TH_5",
        "colab_type": "code",
        "colab": {}
      },
      "source": [
        "import numpy as np\n",
        "import matplotlib.pyplot as plt\n",
        "import seaborn as sns\n",
        "sns.set()"
      ],
      "execution_count": 0,
      "outputs": []
    },
    {
      "cell_type": "code",
      "metadata": {
        "id": "6r3M-wplT49h",
        "colab_type": "code",
        "colab": {}
      },
      "source": [
        "def sigmoid(x):\n",
        "    return 1.0 / (1.0 + np.exp(-x))"
      ],
      "execution_count": 0,
      "outputs": []
    },
    {
      "cell_type": "code",
      "metadata": {
        "id": "in9uQmb9UfiG",
        "colab_type": "code",
        "colab": {
          "base_uri": "https://localhost:8080/",
          "height": 996
        },
        "outputId": "99fc08e6-d947-434c-86ef-9c0de04044f9"
      },
      "source": [
        "for i in range(-20, 20, 1):\n",
        "    print(sigmoid(i))\n",
        "\n",
        "plot_data = np.arange(-10, 10, 1)\n",
        "sigmoid_data = [sigmoid(x) for x in plot_data]\n",
        "plt.plot(plot_data, sigmoid_data)\n",
        "plt.title(\"Sigmoid\")"
      ],
      "execution_count": 13,
      "outputs": [
        {
          "output_type": "stream",
          "text": [
            "2.0611536181902037e-09\n",
            "5.602796406145941e-09\n",
            "1.522997951276035e-08\n",
            "4.1399375473943306e-08\n",
            "1.12535162055095e-07\n",
            "3.059022269256247e-07\n",
            "8.315280276641321e-07\n",
            "2.2603242979035746e-06\n",
            "6.144174602214718e-06\n",
            "1.670142184809518e-05\n",
            "4.5397868702434395e-05\n",
            "0.00012339457598623172\n",
            "0.0003353501304664781\n",
            "0.0009110511944006454\n",
            "0.0024726231566347743\n",
            "0.0066928509242848554\n",
            "0.01798620996209156\n",
            "0.04742587317756678\n",
            "0.11920292202211755\n",
            "0.2689414213699951\n",
            "0.5\n",
            "0.7310585786300049\n",
            "0.8807970779778823\n",
            "0.9525741268224334\n",
            "0.9820137900379085\n",
            "0.9933071490757153\n",
            "0.9975273768433653\n",
            "0.9990889488055994\n",
            "0.9996646498695336\n",
            "0.9998766054240137\n",
            "0.9999546021312976\n",
            "0.999983298578152\n",
            "0.9999938558253978\n",
            "0.999997739675702\n",
            "0.9999991684719722\n",
            "0.999999694097773\n",
            "0.9999998874648379\n",
            "0.9999999586006244\n",
            "0.9999999847700205\n",
            "0.9999999943972036\n"
          ],
          "name": "stdout"
        },
        {
          "output_type": "execute_result",
          "data": {
            "text/plain": [
              "Text(0.5, 1.0, 'Sigmoid')"
            ]
          },
          "metadata": {
            "tags": []
          },
          "execution_count": 13
        },
        {
          "output_type": "display_data",
          "data": {
            "image/png": "[encoded data removed]",
            "text/plain": [
              "<Figure size 432x288 with 1 Axes>"
            ]
          },
          "metadata": {
            "tags": []
          }
        }
      ]
    }
  ]
}