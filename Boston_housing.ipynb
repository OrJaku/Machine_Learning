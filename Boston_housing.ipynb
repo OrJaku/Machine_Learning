{
  "nbformat": 4,
  "nbformat_minor": 0,
  "metadata": {
    "colab": {
      "name": "Boston_housing.ipynb",
      "provenance": [],
      "collapsed_sections": [],
      "include_colab_link": true
    },
    "kernelspec": {
      "name": "python3",
      "display_name": "Python 3"
    }
  },
  "cells": [
    {
      "cell_type": "markdown",
      "metadata": {
        "id": "view-in-github",
        "colab_type": "text"
      },
      "source": [
        "<a href=\"https://colab.research.google.com/github/OrJaku/Machine_Learning/blob/master/Boston_housing.ipynb\" target=\"_parent\"><img src=\"https://colab.research.google.com/assets/colab-badge.svg\" alt=\"Open In Colab\"/></a>"
      ]
    },
    {
      "cell_type": "code",
      "metadata": {
        "id": "_nHu9Wnc2SBj",
        "colab_type": "code",
        "colab": {}
      },
      "source": [
        "from keras.datasets import boston_housing\n",
        "import numpy as np\n",
        "\n",
        "(train_data, train_target), (test_data, test_target) = boston_housing.load_data()"
      ],
      "execution_count": 0,
      "outputs": []
    },
    {
      "cell_type": "code",
      "metadata": {
        "id": "ngthAXMa4Vt7",
        "colab_type": "code",
        "colab": {}
      },
      "source": [
        "mean = train_data.mean(axis=0) #Mean value of train_data\n",
        "train_data -= mean\n",
        "# print(\"Mean\", mean)\n",
        "std = train_data.std(axis=0) #Standard deviation of train_data\n",
        "train_data /= std\n",
        "\n",
        "test_data -= mean\n",
        "test_data /= std"
      ],
      "execution_count": 0,
      "outputs": []
    },
    {
      "cell_type": "code",
      "metadata": {
        "id": "JztMPfYyZhds",
        "colab_type": "code",
        "colab": {}
      },
      "source": [
        "from keras import models\n",
        "from keras import layers \n",
        "\n",
        "def build_model():\n",
        "    model = models.Sequential()\n",
        "    model.add(layers.Dense(64,activation='relu',\n",
        "                           input_shape=(train_data.shape[1],)))\n",
        "    model.add(layers.Dense(64, activation='relu'))\n",
        "    model.add(layers.Dense(1))\n",
        "    model.compile(optimizer='rmsprop',\n",
        "                  loss='mse',\n",
        "                  metrics=['mae'])\n",
        "    return model"
      ],
      "execution_count": 0,
      "outputs": []
    },
    {
      "cell_type": "code",
      "metadata": {
        "id": "B6-HXcfNolp-",
        "colab_type": "code",
        "colab": {}
      },
      "source": [
        "k = 4\n",
        "num_val_samples = len(train_data) // k\n",
        "num_epochs = 500\n",
        "all_score = []\n",
        "for i in range(k):\n",
        "    print(\"procesing fold #\", i)\n",
        "    val_data = train_data[i * num_val_samples : (i+1) * num_val_samples] #Data\n",
        "    val_target = train_target[i * num_val_samples : (i+1) * num_val_samples] #Target \n",
        "\n",
        "    partial_train_data = np.concatenate([train_data[:i*num_val_samples], train_data[(i+1) * num_val_samples:]], axis=0) #Data\n",
        "    partial_train_target = np.concatenate([train_target[:i*num_val_samples], train_target[(i+1) * num_val_samples:]], axis=0) #Target \n",
        "\n",
        "    model = build_model()\n",
        "    history = model.fit(partial_train_data, \n",
        "              partial_train_target,\n",
        "              validation_data=(val_data, val_target),\n",
        "              epochs = num_epochs,\n",
        "              batch_size=1,\n",
        "              verbose=0)\n",
        "\n",
        "    mea_history = history.history['val_mean_absolute_error']\n",
        "    all_score.append(mea_history)"
      ],
      "execution_count": 0,
      "outputs": []
    },
    {
      "cell_type": "code",
      "metadata": {
        "id": "zcknahlkPGAu",
        "colab_type": "code",
        "colab": {}
      },
      "source": [
        "print(\"All Score:\", all_score)\n",
        "print(\"Mean:\", np.mean(all_score))"
      ],
      "execution_count": 0,
      "outputs": []
    },
    {
      "cell_type": "code",
      "metadata": {
        "id": "Gy4vRaeAFCOP",
        "colab_type": "code",
        "colab": {
          "base_uri": "https://localhost:8080/",
          "height": 279
        },
        "outputId": "247df9e3-fea4-4d1a-dd53-c5e28ea90908"
      },
      "source": [
        "average_mae_history = [np.mean([x[i] for x in all_score]) for i in range(num_epochs)]\n",
        "import matplotlib.pyplot as plt\n",
        "\n",
        "plt.plot(range(1, len(average_mae_history)+1), average_mae_history)\n",
        "plt.xlabel('Epochs')\n",
        "plt.ylabel('Mean absolute value')\n",
        "plt.show()"
      ],
      "execution_count": 12,
      "outputs": [
        {
          "output_type": "display_data",
          "data": {
            "image/png": "[encoded data removed]",
            "text/plain": [
              "<Figure size 432x288 with 1 Axes>"
            ]
          },
          "metadata": {
            "tags": []
          }
        }
      ]
    }
  ]
}