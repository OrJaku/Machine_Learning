{
  "nbformat": 4,
  "nbformat_minor": 0,
  "metadata": {
    "colab": {
      "name": "Boston_housing.ipynb",
      "provenance": [],
      "collapsed_sections": [],
      "include_colab_link": true
    },
    "kernelspec": {
      "name": "python3",
      "display_name": "Python 3"
    }
  },
  "cells": [
    {
      "cell_type": "markdown",
      "metadata": {
        "id": "view-in-github",
        "colab_type": "text"
      },
      "source": [
        "<a href=\"https://colab.research.google.com/github/OrJaku/Machine_Learning/blob/master/Boston_housing.ipynb\" target=\"_parent\"><img src=\"https://colab.research.google.com/assets/colab-badge.svg\" alt=\"Open In Colab\"/></a>"
      ]
    },
    {
      "cell_type": "code",
      "metadata": {
        "id": "_nHu9Wnc2SBj",
        "colab_type": "code",
        "colab": {}
      },
      "source": [
        "from keras.datasets import boston_housing\n",
        "import numpy as np\n",
        "\n",
        "(train_data, train_target), (test_data, test_target) = boston_housing.load_data()"
      ],
      "execution_count": 0,
      "outputs": []
    },
    {
      "cell_type": "code",
      "metadata": {
        "id": "ngthAXMa4Vt7",
        "colab_type": "code",
        "colab": {}
      },
      "source": [
        "mean = train_data.mean(axis=0) #Mean value of train_data\n",
        "train_data -= mean\n",
        "# print(\"Mean\", mean)\n",
        "std = train_data.std(axis=0) #Standard deviation of train_data\n",
        "train_data /= std\n",
        "\n",
        "test_data -= mean\n",
        "test_data /= std\n"
      ],
      "execution_count": 0,
      "outputs": []
    },
    {
      "cell_type": "code",
      "metadata": {
        "id": "JztMPfYyZhds",
        "colab_type": "code",
        "colab": {}
      },
      "source": [
        "from keras import models\n",
        "from keras import layers \n",
        "\n",
        "def build_model()\n",
        "    model = models.Sequentail()\n",
        "    model.add(layers.Dense(64,activation='relu',\n",
        "                           input_shape=(train_data[1],)))\n",
        "    model.add(layers.Dense(64, activation='relu'))\n",
        "    model.add(layers.Dense(1))\n",
        "    model.compile(optimizer='rmsprop',\n",
        "                  loss='mse',\n",
        "                  metrics=['mae'])\n",
        "    return model\n",
        "\n"
      ],
      "execution_count": 0,
      "outputs": []
    },
    {
      "cell_type": "code",
      "metadata": {
        "id": "B6-HXcfNolp-",
        "colab_type": "code",
        "colab": {
          "base_uri": "https://localhost:8080/",
          "height": 121
        },
        "outputId": "f0089421-f939-472f-f314-7b18617bec21"
      },
      "source": [
        "k = 4\n",
        "num_val_samples = len(train_data) // k\n",
        "num_epochs = 100\n",
        "all_score = []\n",
        "for i in range(k):\n",
        "    print(\"procesing fold #\", i)\n",
        "    val_data = train_data[i * num_val_samples : (i+1) * num_val_samples]\n",
        "    val_target = train_target[i * num_val_samples : (i+1) * num_val_samples]\n",
        "print(val_data.shape)\n",
        "print(val_target.shape)"
      ],
      "execution_count": 40,
      "outputs": [
        {
          "output_type": "stream",
          "text": [
            "procesing fold # 0\n",
            "procesing fold # 1\n",
            "procesing fold # 2\n",
            "procesing fold # 3\n",
            "(101, 13)\n",
            "(101,)\n"
          ],
          "name": "stdout"
        }
      ]
    }
  ]
}