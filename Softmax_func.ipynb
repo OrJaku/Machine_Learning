{
  "nbformat": 4,
  "nbformat_minor": 0,
  "metadata": {
    "colab": {
      "name": "Softmax_func.ipynb",
      "provenance": [],
      "include_colab_link": true
    },
    "kernelspec": {
      "name": "python3",
      "display_name": "Python 3"
    }
  },
  "cells": [
    {
      "cell_type": "markdown",
      "metadata": {
        "id": "view-in-github",
        "colab_type": "text"
      },
      "source": [
        "<a href=\"https://colab.research.google.com/github/OrJaku/Neural_Network/blob/master/Softmax_func.ipynb\" target=\"_parent\"><img src=\"https://colab.research.google.com/assets/colab-badge.svg\" alt=\"Open In Colab\"/></a>"
      ]
    },
    {
      "cell_type": "markdown",
      "metadata": {
        "id": "htihaUJXYCse",
        "colab_type": "text"
      },
      "source": [
        "##Softmax function\n"
      ]
    },
    {
      "cell_type": "code",
      "metadata": {
        "id": "QVVADd2jYJTx",
        "colab_type": "code",
        "colab": {}
      },
      "source": [
        "import numpy as np \n",
        "import pandas as pd #Frames and table libery\n",
        "import matplotlib.pyplot as plt #Plot libery\n",
        "import seaborn as sns #Plot theme libery\n",
        "sns.set()"
      ],
      "execution_count": 0,
      "outputs": []
    },
    {
      "cell_type": "code",
      "metadata": {
        "id": "Dh1o8J0jYQeg",
        "colab_type": "code",
        "colab": {}
      },
      "source": [
        "data = np.random.randn(4,7)\n",
        "df = pd.DataFrame(data)\n"
      ],
      "execution_count": 0,
      "outputs": []
    },
    {
      "cell_type": "code",
      "metadata": {
        "id": "JEq7bqmS3yv5",
        "colab_type": "code",
        "colab": {
          "base_uri": "https://localhost:8080/",
          "height": 175
        },
        "outputId": "a61eab44-efef-45fb-eeec-a91b152a090f"
      },
      "source": [
        "df"
      ],
      "execution_count": 15,
      "outputs": [
        {
          "output_type": "execute_result",
          "data": {
            "text/html": [
              "<div>\n",
              "<style scoped>\n",
              "    .dataframe tbody tr th:only-of-type {\n",
              "        vertical-align: middle;\n",
              "    }\n",
              "\n",
              "    .dataframe tbody tr th {\n",
              "        vertical-align: top;\n",
              "    }\n",
              "\n",
              "    .dataframe thead th {\n",
              "        text-align: right;\n",
              "    }\n",
              "</style>\n",
              "<table border=\"1\" class=\"dataframe\">\n",
              "  <thead>\n",
              "    <tr style=\"text-align: right;\">\n",
              "      <th></th>\n",
              "      <th>0</th>\n",
              "      <th>1</th>\n",
              "      <th>2</th>\n",
              "      <th>3</th>\n",
              "      <th>4</th>\n",
              "      <th>5</th>\n",
              "      <th>6</th>\n",
              "    </tr>\n",
              "  </thead>\n",
              "  <tbody>\n",
              "    <tr>\n",
              "      <th>0</th>\n",
              "      <td>1.617708</td>\n",
              "      <td>0.618596</td>\n",
              "      <td>0.607190</td>\n",
              "      <td>-0.163423</td>\n",
              "      <td>0.796499</td>\n",
              "      <td>0.883259</td>\n",
              "      <td>-0.575916</td>\n",
              "    </tr>\n",
              "    <tr>\n",
              "      <th>1</th>\n",
              "      <td>-0.405818</td>\n",
              "      <td>0.536543</td>\n",
              "      <td>1.707061</td>\n",
              "      <td>0.536817</td>\n",
              "      <td>2.059919</td>\n",
              "      <td>0.323481</td>\n",
              "      <td>-0.305809</td>\n",
              "    </tr>\n",
              "    <tr>\n",
              "      <th>2</th>\n",
              "      <td>0.774837</td>\n",
              "      <td>-0.617057</td>\n",
              "      <td>0.941130</td>\n",
              "      <td>1.044178</td>\n",
              "      <td>0.462819</td>\n",
              "      <td>1.841418</td>\n",
              "      <td>-0.155783</td>\n",
              "    </tr>\n",
              "    <tr>\n",
              "      <th>3</th>\n",
              "      <td>0.111958</td>\n",
              "      <td>-1.575902</td>\n",
              "      <td>0.381902</td>\n",
              "      <td>-2.494584</td>\n",
              "      <td>-1.181905</td>\n",
              "      <td>0.123092</td>\n",
              "      <td>0.353725</td>\n",
              "    </tr>\n",
              "  </tbody>\n",
              "</table>\n",
              "</div>"
            ],
            "text/plain": [
              "          0         1         2         3         4         5         6\n",
              "0  1.617708  0.618596  0.607190 -0.163423  0.796499  0.883259 -0.575916\n",
              "1 -0.405818  0.536543  1.707061  0.536817  2.059919  0.323481 -0.305809\n",
              "2  0.774837 -0.617057  0.941130  1.044178  0.462819  1.841418 -0.155783\n",
              "3  0.111958 -1.575902  0.381902 -2.494584 -1.181905  0.123092  0.353725"
            ]
          },
          "metadata": {
            "tags": []
          },
          "execution_count": 15
        }
      ]
    },
    {
      "cell_type": "code",
      "metadata": {
        "id": "AQ2pKWSAY0yK",
        "colab_type": "code",
        "outputId": "b963a21a-41f5-4736-d39e-26558e20e310",
        "colab": {
          "base_uri": "https://localhost:8080/",
          "height": 175
        }
      },
      "source": [
        "softmax = np.exp(df) / np.sum(np.exp(df), axis=0)\n",
        "softmax"
      ],
      "execution_count": 20,
      "outputs": [
        {
          "output_type": "execute_result",
          "data": {
            "text/html": [
              "<div>\n",
              "<style scoped>\n",
              "    .dataframe tbody tr th:only-of-type {\n",
              "        vertical-align: middle;\n",
              "    }\n",
              "\n",
              "    .dataframe tbody tr th {\n",
              "        vertical-align: top;\n",
              "    }\n",
              "\n",
              "    .dataframe thead th {\n",
              "        text-align: right;\n",
              "    }\n",
              "</style>\n",
              "<table border=\"1\" class=\"dataframe\">\n",
              "  <thead>\n",
              "    <tr style=\"text-align: right;\">\n",
              "      <th></th>\n",
              "      <th>0</th>\n",
              "      <th>1</th>\n",
              "      <th>2</th>\n",
              "      <th>3</th>\n",
              "      <th>4</th>\n",
              "      <th>5</th>\n",
              "      <th>6</th>\n",
              "    </tr>\n",
              "  </thead>\n",
              "  <tbody>\n",
              "    <tr>\n",
              "      <th>0</th>\n",
              "      <td>0.560377</td>\n",
              "      <td>0.430426</td>\n",
              "      <td>0.161329</td>\n",
              "      <td>0.154874</td>\n",
              "      <td>0.185457</td>\n",
              "      <td>0.215247</td>\n",
              "      <td>0.157088</td>\n",
              "    </tr>\n",
              "    <tr>\n",
              "      <th>1</th>\n",
              "      <td>0.074075</td>\n",
              "      <td>0.396518</td>\n",
              "      <td>0.484596</td>\n",
              "      <td>0.311952</td>\n",
              "      <td>0.656056</td>\n",
              "      <td>0.122979</td>\n",
              "      <td>0.205801</td>\n",
              "    </tr>\n",
              "    <tr>\n",
              "      <th>2</th>\n",
              "      <td>0.241227</td>\n",
              "      <td>0.125101</td>\n",
              "      <td>0.225289</td>\n",
              "      <td>0.518123</td>\n",
              "      <td>0.132840</td>\n",
              "      <td>0.561127</td>\n",
              "      <td>0.239113</td>\n",
              "    </tr>\n",
              "    <tr>\n",
              "      <th>3</th>\n",
              "      <td>0.124320</td>\n",
              "      <td>0.047956</td>\n",
              "      <td>0.128787</td>\n",
              "      <td>0.015051</td>\n",
              "      <td>0.025647</td>\n",
              "      <td>0.100647</td>\n",
              "      <td>0.397997</td>\n",
              "    </tr>\n",
              "  </tbody>\n",
              "</table>\n",
              "</div>"
            ],
            "text/plain": [
              "          0         1         2         3         4         5         6\n",
              "0  0.560377  0.430426  0.161329  0.154874  0.185457  0.215247  0.157088\n",
              "1  0.074075  0.396518  0.484596  0.311952  0.656056  0.122979  0.205801\n",
              "2  0.241227  0.125101  0.225289  0.518123  0.132840  0.561127  0.239113\n",
              "3  0.124320  0.047956  0.128787  0.015051  0.025647  0.100647  0.397997"
            ]
          },
          "metadata": {
            "tags": []
          },
          "execution_count": 20
        }
      ]
    },
    {
      "cell_type": "code",
      "metadata": {
        "id": "0d2M1wVh6bLJ",
        "colab_type": "code",
        "colab": {}
      },
      "source": [
        "np.sum(softmax)"
      ],
      "execution_count": 0,
      "outputs": []
    }
  ]
}