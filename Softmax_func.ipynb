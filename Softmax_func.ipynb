{
  "nbformat": 4,
  "nbformat_minor": 0,
  "metadata": {
    "colab": {
      "name": "Softmax_func.ipynb",
      "provenance": [],
      "include_colab_link": true
    },
    "kernelspec": {
      "name": "python3",
      "display_name": "Python 3"
    }
  },
  "cells": [
    {
      "cell_type": "markdown",
      "metadata": {
        "id": "view-in-github",
        "colab_type": "text"
      },
      "source": [
        "<a href=\"https://colab.research.google.com/github/OrJaku/Neural_Network/blob/master/Softmax_func.ipynb\" target=\"_parent\"><img src=\"https://colab.research.google.com/assets/colab-badge.svg\" alt=\"Open In Colab\"/></a>"
      ]
    },
    {
      "cell_type": "markdown",
      "metadata": {
        "id": "htihaUJXYCse",
        "colab_type": "text"
      },
      "source": [
        "##Softmax function\n"
      ]
    },
    {
      "cell_type": "code",
      "metadata": {
        "id": "QVVADd2jYJTx",
        "colab_type": "code",
        "colab": {}
      },
      "source": [
        "import numpy as np \n",
        "import pandas as pd #Frames and table libery\n",
        "import matplotlib.pyplot as plt #Plot libery\n",
        "import seaborn as sns #Plot theme libery\n",
        "sns.set()"
      ],
      "execution_count": 0,
      "outputs": []
    },
    {
      "cell_type": "code",
      "metadata": {
        "id": "Dh1o8J0jYQeg",
        "colab_type": "code",
        "colab": {}
      },
      "source": [
        "data = np.random.randn(4,7)\n",
        "df = pd.DataFrame(data)\n"
      ],
      "execution_count": 0,
      "outputs": []
    },
    {
      "cell_type": "code",
      "metadata": {
        "id": "JEq7bqmS3yv5",
        "colab_type": "code",
        "outputId": "ecfbfab2-d7dd-4f57-ec1a-650dca43cd34",
        "colab": {
          "base_uri": "https://localhost:8080/",
          "height": 175
        }
      },
      "source": [
        "df"
      ],
      "execution_count": 3,
      "outputs": [
        {
          "output_type": "execute_result",
          "data": {
            "text/html": [
              "<div>\n",
              "<style scoped>\n",
              "    .dataframe tbody tr th:only-of-type {\n",
              "        vertical-align: middle;\n",
              "    }\n",
              "\n",
              "    .dataframe tbody tr th {\n",
              "        vertical-align: top;\n",
              "    }\n",
              "\n",
              "    .dataframe thead th {\n",
              "        text-align: right;\n",
              "    }\n",
              "</style>\n",
              "<table border=\"1\" class=\"dataframe\">\n",
              "  <thead>\n",
              "    <tr style=\"text-align: right;\">\n",
              "      <th></th>\n",
              "      <th>0</th>\n",
              "      <th>1</th>\n",
              "      <th>2</th>\n",
              "      <th>3</th>\n",
              "      <th>4</th>\n",
              "      <th>5</th>\n",
              "      <th>6</th>\n",
              "    </tr>\n",
              "  </thead>\n",
              "  <tbody>\n",
              "    <tr>\n",
              "      <th>0</th>\n",
              "      <td>1.246763</td>\n",
              "      <td>0.861188</td>\n",
              "      <td>-0.211153</td>\n",
              "      <td>0.478904</td>\n",
              "      <td>-0.755794</td>\n",
              "      <td>0.431530</td>\n",
              "      <td>0.400092</td>\n",
              "    </tr>\n",
              "    <tr>\n",
              "      <th>1</th>\n",
              "      <td>0.140086</td>\n",
              "      <td>0.281864</td>\n",
              "      <td>-0.341608</td>\n",
              "      <td>0.178069</td>\n",
              "      <td>0.280885</td>\n",
              "      <td>0.814411</td>\n",
              "      <td>-0.159167</td>\n",
              "    </tr>\n",
              "    <tr>\n",
              "      <th>2</th>\n",
              "      <td>1.046156</td>\n",
              "      <td>0.502360</td>\n",
              "      <td>0.329517</td>\n",
              "      <td>1.010573</td>\n",
              "      <td>-0.758258</td>\n",
              "      <td>-0.037114</td>\n",
              "      <td>0.279826</td>\n",
              "    </tr>\n",
              "    <tr>\n",
              "      <th>3</th>\n",
              "      <td>-1.225553</td>\n",
              "      <td>1.416636</td>\n",
              "      <td>1.588070</td>\n",
              "      <td>0.978134</td>\n",
              "      <td>-0.798728</td>\n",
              "      <td>-0.884429</td>\n",
              "      <td>0.116935</td>\n",
              "    </tr>\n",
              "  </tbody>\n",
              "</table>\n",
              "</div>"
            ],
            "text/plain": [
              "          0         1         2         3         4         5         6\n",
              "0  1.246763  0.861188 -0.211153  0.478904 -0.755794  0.431530  0.400092\n",
              "1  0.140086  0.281864 -0.341608  0.178069  0.280885  0.814411 -0.159167\n",
              "2  1.046156  0.502360  0.329517  1.010573 -0.758258 -0.037114  0.279826\n",
              "3 -1.225553  1.416636  1.588070  0.978134 -0.798728 -0.884429  0.116935"
            ]
          },
          "metadata": {
            "tags": []
          },
          "execution_count": 3
        }
      ]
    },
    {
      "cell_type": "code",
      "metadata": {
        "id": "AQ2pKWSAY0yK",
        "colab_type": "code",
        "outputId": "bb9bbe47-9b8c-423a-f787-239a9b26b96d",
        "colab": {
          "base_uri": "https://localhost:8080/",
          "height": 175
        }
      },
      "source": [
        "softmax = np.exp(df) / np.sum(np.exp(df), axis=0)\n",
        "softmax\n",
        "#axis 0 = rows\n",
        "#axis 1 = columns"
      ],
      "execution_count": 4,
      "outputs": [
        {
          "output_type": "execute_result",
          "data": {
            "text/html": [
              "<div>\n",
              "<style scoped>\n",
              "    .dataframe tbody tr th:only-of-type {\n",
              "        vertical-align: middle;\n",
              "    }\n",
              "\n",
              "    .dataframe tbody tr th {\n",
              "        vertical-align: top;\n",
              "    }\n",
              "\n",
              "    .dataframe thead th {\n",
              "        text-align: right;\n",
              "    }\n",
              "</style>\n",
              "<table border=\"1\" class=\"dataframe\">\n",
              "  <thead>\n",
              "    <tr style=\"text-align: right;\">\n",
              "      <th></th>\n",
              "      <th>0</th>\n",
              "      <th>1</th>\n",
              "      <th>2</th>\n",
              "      <th>3</th>\n",
              "      <th>4</th>\n",
              "      <th>5</th>\n",
              "      <th>6</th>\n",
              "    </tr>\n",
              "  </thead>\n",
              "  <tbody>\n",
              "    <tr>\n",
              "      <th>0</th>\n",
              "      <td>0.447772</td>\n",
              "      <td>0.249907</td>\n",
              "      <td>0.103737</td>\n",
              "      <td>0.196486</td>\n",
              "      <td>0.173150</td>\n",
              "      <td>0.297568</td>\n",
              "      <td>0.311360</td>\n",
              "    </tr>\n",
              "    <tr>\n",
              "      <th>1</th>\n",
              "      <td>0.148059</td>\n",
              "      <td>0.140017</td>\n",
              "      <td>0.091049</td>\n",
              "      <td>0.145439</td>\n",
              "      <td>0.488254</td>\n",
              "      <td>0.436385</td>\n",
              "      <td>0.177983</td>\n",
              "    </tr>\n",
              "    <tr>\n",
              "      <th>2</th>\n",
              "      <td>0.366382</td>\n",
              "      <td>0.174558</td>\n",
              "      <td>0.178132</td>\n",
              "      <td>0.334374</td>\n",
              "      <td>0.172724</td>\n",
              "      <td>0.186233</td>\n",
              "      <td>0.276078</td>\n",
              "    </tr>\n",
              "    <tr>\n",
              "      <th>3</th>\n",
              "      <td>0.037787</td>\n",
              "      <td>0.435518</td>\n",
              "      <td>0.627082</td>\n",
              "      <td>0.323701</td>\n",
              "      <td>0.165873</td>\n",
              "      <td>0.079813</td>\n",
              "      <td>0.234579</td>\n",
              "    </tr>\n",
              "  </tbody>\n",
              "</table>\n",
              "</div>"
            ],
            "text/plain": [
              "          0         1         2         3         4         5         6\n",
              "0  0.447772  0.249907  0.103737  0.196486  0.173150  0.297568  0.311360\n",
              "1  0.148059  0.140017  0.091049  0.145439  0.488254  0.436385  0.177983\n",
              "2  0.366382  0.174558  0.178132  0.334374  0.172724  0.186233  0.276078\n",
              "3  0.037787  0.435518  0.627082  0.323701  0.165873  0.079813  0.234579"
            ]
          },
          "metadata": {
            "tags": []
          },
          "execution_count": 4
        }
      ]
    }
  ]
}