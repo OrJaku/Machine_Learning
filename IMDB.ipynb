{
 "cells": [
  {
   "cell_type": "code",
   "execution_count": 2,
   "metadata": {
    "scrolled": true
   },
   "outputs": [],
   "source": [
    "from keras.datasets import imdb\n",
    "import numpy as np\n",
    "(train_data, train_labels), (test_data, test_labels) = imdb.load_data(num_words=10000)\n"
   ]
  },
  {
   "cell_type": "code",
   "execution_count": 3,
   "metadata": {
    "scrolled": false
   },
   "outputs": [],
   "source": [
    "def verctorize_seq(sequences, dimension=10000):\n",
    "    results = np.zeros((len(sequences), dimension), dtype=np.int8)\n",
    "    for i, sequences in enumerate(sequences):\n",
    "        results[i, sequences] = 1.\n",
    "    return results\n",
    "\n",
    "x_train = verctorize_seq(train_data)\n",
    "x_test = verctorize_seq(test_data)\n",
    "\n"
   ]
  },
  {
   "cell_type": "code",
   "execution_count": 4,
   "metadata": {},
   "outputs": [],
   "source": [
    "x_train = np.asarray(x_train).astype('float32')\n",
    "x_test = np.asarray(x_test).astype('float32')\n"
   ]
  },
  {
   "cell_type": "code",
   "execution_count": 5,
   "metadata": {},
   "outputs": [
    {
     "name": "stdout",
     "output_type": "stream",
     "text": [
      "Train on 15000 samples, validate on 10000 samples\n",
      "Epoch 1/20\n",
      "15000/15000 [==============================] - 1s 72us/step - loss: 0.5133 - accuracy: 0.7897 - val_loss: 0.4108 - val_accuracy: 0.8449\n",
      "Epoch 2/20\n",
      "15000/15000 [==============================] - 1s 54us/step - loss: 0.3055 - accuracy: 0.9027 - val_loss: 0.3123 - val_accuracy: 0.8819\n",
      "Epoch 3/20\n",
      "15000/15000 [==============================] - 1s 57us/step - loss: 0.2256 - accuracy: 0.9259 - val_loss: 0.2785 - val_accuracy: 0.8907\n",
      "Epoch 4/20\n",
      "15000/15000 [==============================] - 1s 55us/step - loss: 0.1722 - accuracy: 0.9440 - val_loss: 0.2843 - val_accuracy: 0.8869\n",
      "Epoch 5/20\n",
      "15000/15000 [==============================] - 1s 56us/step - loss: 0.1390 - accuracy: 0.9569 - val_loss: 0.3202 - val_accuracy: 0.8732\n",
      "Epoch 6/20\n",
      "15000/15000 [==============================] - 1s 55us/step - loss: 0.1146 - accuracy: 0.9647 - val_loss: 0.2924 - val_accuracy: 0.8867\n",
      "Epoch 7/20\n",
      "15000/15000 [==============================] - 1s 55us/step - loss: 0.0912 - accuracy: 0.9748 - val_loss: 0.3132 - val_accuracy: 0.8838\n",
      "Epoch 8/20\n",
      "15000/15000 [==============================] - 1s 56us/step - loss: 0.0747 - accuracy: 0.9797 - val_loss: 0.3572 - val_accuracy: 0.8720\n",
      "Epoch 9/20\n",
      "15000/15000 [==============================] - 1s 55us/step - loss: 0.0565 - accuracy: 0.9874 - val_loss: 0.3768 - val_accuracy: 0.8774\n",
      "Epoch 10/20\n",
      "15000/15000 [==============================] - 1s 56us/step - loss: 0.0478 - accuracy: 0.9878 - val_loss: 0.4038 - val_accuracy: 0.8724\n",
      "Epoch 11/20\n",
      "15000/15000 [==============================] - 1s 55us/step - loss: 0.0363 - accuracy: 0.9920 - val_loss: 0.4115 - val_accuracy: 0.8746\n",
      "Epoch 12/20\n",
      "15000/15000 [==============================] - 1s 60us/step - loss: 0.0263 - accuracy: 0.9959 - val_loss: 0.4466 - val_accuracy: 0.8725\n",
      "Epoch 13/20\n",
      "15000/15000 [==============================] - 1s 57us/step - loss: 0.0223 - accuracy: 0.9961 - val_loss: 0.4781 - val_accuracy: 0.8726\n",
      "Epoch 14/20\n",
      "15000/15000 [==============================] - 1s 56us/step - loss: 0.0167 - accuracy: 0.9976 - val_loss: 0.5200 - val_accuracy: 0.8702\n",
      "Epoch 15/20\n",
      "15000/15000 [==============================] - 1s 57us/step - loss: 0.0111 - accuracy: 0.9991 - val_loss: 0.6067 - val_accuracy: 0.8625\n",
      "Epoch 16/20\n",
      "15000/15000 [==============================] - 1s 56us/step - loss: 0.0100 - accuracy: 0.9986 - val_loss: 0.5873 - val_accuracy: 0.8679\n",
      "Epoch 17/20\n",
      "15000/15000 [==============================] - 1s 56us/step - loss: 0.0049 - accuracy: 0.9999 - val_loss: 0.6305 - val_accuracy: 0.8653\n",
      "Epoch 18/20\n",
      "15000/15000 [==============================] - 1s 56us/step - loss: 0.0066 - accuracy: 0.9989 - val_loss: 0.6419 - val_accuracy: 0.8668\n",
      "Epoch 19/20\n",
      "15000/15000 [==============================] - 1s 57us/step - loss: 0.0026 - accuracy: 0.9999 - val_loss: 0.6793 - val_accuracy: 0.8675\n",
      "Epoch 20/20\n",
      "15000/15000 [==============================] - 1s 58us/step - loss: 0.0065 - accuracy: 0.9985 - val_loss: 0.7140 - val_accuracy: 0.8659\n"
     ]
    }
   ],
   "source": [
    "from keras import models\n",
    "from keras import layers\n",
    "\n",
    "model = models.Sequential()\n",
    "model.add(layers.Dense(16, activation=\"relu\", input_shape=(10000,)))\n",
    "model.add(layers.Dense(16, activation=\"relu\"))\n",
    "model.add(layers.Dense(1, activation=\"sigmoid\"))\n",
    "\n",
    "model.compile(optimizer=\"rmsprop\",\n",
    "             loss=\"binary_crossentropy\",\n",
    "             metrics=['accuracy'])\n",
    "x_val = x_train[:10000]\n",
    "partitial_x_train = x_train[10000:]\n",
    "y_val = train_labels[:10000]\n",
    "partitial_y_train = train_labels[10000:]\n",
    "history= model.fit(partitial_x_train,\n",
    "                  partitial_y_train,\n",
    "                  epochs=20,\n",
    "                  batch_size=512,\n",
    "                  validation_data = (x_val, y_val))\n",
    "\n"
   ]
  },
  {
   "cell_type": "code",
   "execution_count": 10,
   "metadata": {},
   "outputs": [
    {
     "name": "stdout",
     "output_type": "stream",
     "text": [
      "dict_keys(['val_loss', 'val_accuracy', 'loss', 'accuracy'])\n"
     ]
    },
    {
     "data": {
      "image/png": "[encoded data removed]",
      "text/plain": [
       "<matplotlib.figure.Figure at 0x7f4c76d3e9e8>"
      ]
     },
     "metadata": {
      "needs_background": "light"
     },
     "output_type": "display_data"
    }
   ],
   "source": [
    "import matplotlib.pyplot as plt\n",
    "\n",
    "history_info = history.history\n",
    "print(history_info.keys())\n",
    "\n",
    "acc = history_info['accuracy']\n",
    "val_acc = history_info['val_accuracy']\n",
    "loss = history_info['loss']\n",
    "val_loss = history_info['val_loss']\n",
    "\n",
    "epochs = range(1, len(acc)+1)\n",
    "\n",
    "plt.plot(epochs, acc, 'r', label=\"Learning accuracy\")\n",
    "plt.plot(epochs, val_acc, 'ro', label=\"Validation accuracy\")\n",
    "plt.title(\"Accuracy of learning and validation\")\n",
    "plt.xlabel(\"Epochs\")\n",
    "plt.ylabel(\"Loss\")\n",
    "plt.legend()\n",
    "plt.show()\n"
   ]
  },
  {
   "cell_type": "code",
   "execution_count": 11,
   "metadata": {},
   "outputs": [
    {
     "data": {
      "image/png": "[encoded data removed]",
      "text/plain": [
       "<matplotlib.figure.Figure at 0x7f4c76d2d7b8>"
      ]
     },
     "metadata": {
      "needs_background": "light"
     },
     "output_type": "display_data"
    }
   ],
   "source": [
    "plt.plot(epochs, loss, 'b', label=\"Learning loss\")\n",
    "plt.plot(epochs, val_loss, 'bo', label=\"Validation loss\")\n",
    "plt.title(\"Loss of learning and validation\")\n",
    "plt.xlabel(\"Epochs\")\n",
    "plt.ylabel(\"Loss\")\n",
    "plt.legend()\n",
    "plt.show()"
   ]
  }
 ],
 "metadata": {
  "kernelspec": {
   "display_name": "Python 3",
   "language": "python",
   "name": "python3"
  },
  "language_info": {
   "codemirror_mode": {
    "name": "ipython",
    "version": 3
   },
   "file_extension": ".py",
   "mimetype": "text/x-python",
   "name": "python",
   "nbconvert_exporter": "python",
   "pygments_lexer": "ipython3",
   "version": "3.6.8"
  }
 },
 "nbformat": 4,
 "nbformat_minor": 2
}
