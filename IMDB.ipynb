{
 "cells": [
  {
   "cell_type": "code",
   "execution_count": 14,
   "metadata": {
    "scrolled": true
   },
   "outputs": [],
   "source": [
    "from keras.datasets import imdb\n",
    "import numpy as np\n",
    "(train_data, train_labels), (test_data, test_labels) = imdb.load_data(num_words=10000)\n"
   ]
  },
  {
   "cell_type": "code",
   "execution_count": 2,
   "metadata": {
    "scrolled": false
   },
   "outputs": [],
   "source": [
    "def verctorize_seq(sequences, dimension=10000):\n",
    "    results = np.zeros((len(sequences), dimension), dtype=np.int8)\n",
    "    for i, sequences in enumerate(sequences):\n",
    "        results[i, sequences] = 1.\n",
    "    return results\n",
    "\n",
    "x_train = verctorize_seq(train_data)\n",
    "x_test = verctorize_seq(test_data)\n",
    "\n"
   ]
  },
  {
   "cell_type": "code",
   "execution_count": 3,
   "metadata": {},
   "outputs": [],
   "source": [
    "x_train = np.asarray(x_train).astype('float32')\n",
    "x_test = np.asarray(x_test).astype('float32')\n"
   ]
  },
  {
   "cell_type": "code",
   "execution_count": 17,
   "metadata": {},
   "outputs": [
    {
     "name": "stdout",
     "output_type": "stream",
     "text": [
      "Train on 15000 samples, validate on 10000 samples\n",
      "Epoch 1/20\n",
      "15000/15000 [==============================] - 1s 58us/step - loss: 0.5412 - accuracy: 0.7713 - val_loss: 0.4461 - val_accuracy: 0.8113\n",
      "Epoch 2/20\n",
      "15000/15000 [==============================] - 1s 51us/step - loss: 0.3336 - accuracy: 0.8979 - val_loss: 0.3199 - val_accuracy: 0.8845\n",
      "Epoch 3/20\n",
      "15000/15000 [==============================] - 1s 50us/step - loss: 0.2422 - accuracy: 0.9244 - val_loss: 0.2831 - val_accuracy: 0.8906\n",
      "Epoch 4/20\n",
      "15000/15000 [==============================] - 1s 52us/step - loss: 0.1889 - accuracy: 0.9395 - val_loss: 0.2896 - val_accuracy: 0.8840\n",
      "Epoch 5/20\n",
      "15000/15000 [==============================] - 1s 55us/step - loss: 0.1560 - accuracy: 0.9503 - val_loss: 0.2751 - val_accuracy: 0.8882\n",
      "Epoch 6/20\n",
      "15000/15000 [==============================] - 1s 51us/step - loss: 0.1273 - accuracy: 0.9613 - val_loss: 0.3132 - val_accuracy: 0.8770\n",
      "Epoch 7/20\n",
      "15000/15000 [==============================] - 1s 51us/step - loss: 0.1087 - accuracy: 0.9675 - val_loss: 0.3021 - val_accuracy: 0.8834\n",
      "Epoch 8/20\n",
      "15000/15000 [==============================] - 1s 51us/step - loss: 0.0908 - accuracy: 0.9741 - val_loss: 0.3149 - val_accuracy: 0.8822\n",
      "Epoch 9/20\n",
      "15000/15000 [==============================] - 1s 52us/step - loss: 0.0736 - accuracy: 0.9801 - val_loss: 0.3596 - val_accuracy: 0.8747\n",
      "Epoch 10/20\n",
      "15000/15000 [==============================] - 1s 52us/step - loss: 0.0628 - accuracy: 0.9835 - val_loss: 0.3615 - val_accuracy: 0.8789\n",
      "Epoch 11/20\n",
      "15000/15000 [==============================] - 1s 51us/step - loss: 0.0506 - accuracy: 0.9888 - val_loss: 0.4043 - val_accuracy: 0.8753\n",
      "Epoch 12/20\n",
      "15000/15000 [==============================] - 1s 52us/step - loss: 0.0439 - accuracy: 0.9904 - val_loss: 0.4260 - val_accuracy: 0.8707\n",
      "Epoch 13/20\n",
      "15000/15000 [==============================] - 1s 51us/step - loss: 0.0342 - accuracy: 0.9921 - val_loss: 0.4638 - val_accuracy: 0.8681\n",
      "Epoch 14/20\n",
      "15000/15000 [==============================] - 1s 52us/step - loss: 0.0281 - accuracy: 0.9944 - val_loss: 0.4773 - val_accuracy: 0.8734\n",
      "Epoch 15/20\n",
      "15000/15000 [==============================] - 1s 52us/step - loss: 0.0211 - accuracy: 0.9965 - val_loss: 0.5066 - val_accuracy: 0.8722\n",
      "Epoch 16/20\n",
      "15000/15000 [==============================] - 1s 52us/step - loss: 0.0195 - accuracy: 0.9964 - val_loss: 0.5567 - val_accuracy: 0.8669\n",
      "Epoch 17/20\n",
      "15000/15000 [==============================] - 1s 52us/step - loss: 0.0125 - accuracy: 0.9987 - val_loss: 0.5937 - val_accuracy: 0.8650\n",
      "Epoch 18/20\n",
      "15000/15000 [==============================] - 1s 52us/step - loss: 0.0123 - accuracy: 0.9980 - val_loss: 0.6078 - val_accuracy: 0.8674\n",
      "Epoch 19/20\n",
      "15000/15000 [==============================] - 1s 52us/step - loss: 0.0095 - accuracy: 0.9985 - val_loss: 0.6524 - val_accuracy: 0.8660\n",
      "Epoch 20/20\n",
      "15000/15000 [==============================] - 1s 52us/step - loss: 0.0054 - accuracy: 0.9997 - val_loss: 0.7792 - val_accuracy: 0.8513\n"
     ]
    }
   ],
   "source": [
    "from keras import models\n",
    "from keras import layers\n",
    "\n",
    "model = models.Sequential()\n",
    "model.add(layers.Dense(16, activation=\"relu\", input_shape=(10000,)))\n",
    "model.add(layers.Dense(16, activation=\"relu\"))\n",
    "model.add(layers.Dense(1, activation=\"sigmoid\"))\n",
    "\n",
    "model.compile(optimizer=\"rmsprop\",\n",
    "             loss=\"binary_crossentropy\",\n",
    "             metrics=['accuracy'])\n",
    "x_val = x_train[:10000]\n",
    "partitial_x_train = x_train[10000:]\n",
    "y_val = train_labels[:10000]\n",
    "partitial_y_train = train_labels[10000:]\n",
    "history= model.fit(partitial_x_train,\n",
    "                  partitial_y_train,\n",
    "                  epochs=20,\n",
    "                  batch_size=512,\n",
    "                  validation_data = (x_val, y_val))\n",
    "\n"
   ]
  },
  {
   "cell_type": "code",
   "execution_count": 29,
   "metadata": {},
   "outputs": [
    {
     "name": "stdout",
     "output_type": "stream",
     "text": [
      "dict_keys(['val_loss', 'val_accuracy', 'loss', 'accuracy'])\n"
     ]
    }
   ],
   "source": [
    "import matplotlib.pyplot as plt\n",
    "\n",
    "history_info = history.history\n",
    "print(history_info.keys())\n",
    "\n",
    "acc = history_info['accuracy']\n",
    "val_acc = history_info['val_accuracy']\n",
    "loss = history_info['loss']\n",
    "val_loss = history_info['val_loss']\n",
    "\n",
    "epochs = range(1, len(acc)+1)\n",
    "\n",
    "\n"
   ]
  },
  {
   "cell_type": "code",
   "execution_count": null,
   "metadata": {},
   "outputs": [],
   "source": []
  }
 ],
 "metadata": {
  "kernelspec": {
   "display_name": "Python 3",
   "language": "python",
   "name": "python3"
  },
  "language_info": {
   "codemirror_mode": {
    "name": "ipython",
    "version": 3
   },
   "file_extension": ".py",
   "mimetype": "text/x-python",
   "name": "python",
   "nbconvert_exporter": "python",
   "pygments_lexer": "ipython3",
   "version": "3.6.8"
  }
 },
 "nbformat": 4,
 "nbformat_minor": 2
}
